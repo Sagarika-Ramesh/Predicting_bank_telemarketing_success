{
 "cells": [
  {
   "cell_type": "code",
   "execution_count": 99,
   "id": "24de5084",
   "metadata": {},
   "outputs": [],
   "source": [
    "import pandas as pd\n",
    "import numpy as np\n",
    "import matplotlib\n",
    "from matplotlib import pylab as plt\n",
    "from sklearn.model_selection import train_test_split\n",
    "from sklearn.compose import ColumnTransformer\n",
    "from sklearn.pipeline import Pipeline\n",
    "from sklearn.preprocessing import StandardScaler, OneHotEncoder, OrdinalEncoder, MinMaxScaler\n",
    "from sklearn.model_selection import StratifiedKFold\n"
   ]
  },
  {
   "cell_type": "code",
   "execution_count": 100,
   "id": "4a1f21ce",
   "metadata": {},
   "outputs": [
    {
     "name": "stdout",
     "output_type": "stream",
     "text": [
      "(45211, 17)\n"
     ]
    },
    {
     "data": {
      "text/html": [
       "<div>\n",
       "<style scoped>\n",
       "    .dataframe tbody tr th:only-of-type {\n",
       "        vertical-align: middle;\n",
       "    }\n",
       "\n",
       "    .dataframe tbody tr th {\n",
       "        vertical-align: top;\n",
       "    }\n",
       "\n",
       "    .dataframe thead th {\n",
       "        text-align: right;\n",
       "    }\n",
       "</style>\n",
       "<table border=\"1\" class=\"dataframe\">\n",
       "  <thead>\n",
       "    <tr style=\"text-align: right;\">\n",
       "      <th></th>\n",
       "      <th>age</th>\n",
       "      <th>job</th>\n",
       "      <th>marital</th>\n",
       "      <th>education</th>\n",
       "      <th>default</th>\n",
       "      <th>balance</th>\n",
       "      <th>housing</th>\n",
       "      <th>loan</th>\n",
       "      <th>contact</th>\n",
       "      <th>day</th>\n",
       "      <th>month</th>\n",
       "      <th>duration</th>\n",
       "      <th>campaign</th>\n",
       "      <th>pdays</th>\n",
       "      <th>previous</th>\n",
       "      <th>poutcome</th>\n",
       "      <th>y</th>\n",
       "    </tr>\n",
       "  </thead>\n",
       "  <tbody>\n",
       "    <tr>\n",
       "      <th>0</th>\n",
       "      <td>58</td>\n",
       "      <td>management</td>\n",
       "      <td>married</td>\n",
       "      <td>tertiary</td>\n",
       "      <td>no</td>\n",
       "      <td>2143</td>\n",
       "      <td>yes</td>\n",
       "      <td>no</td>\n",
       "      <td>unknown</td>\n",
       "      <td>5</td>\n",
       "      <td>may</td>\n",
       "      <td>261</td>\n",
       "      <td>1</td>\n",
       "      <td>-1</td>\n",
       "      <td>0</td>\n",
       "      <td>unknown</td>\n",
       "      <td>no</td>\n",
       "    </tr>\n",
       "    <tr>\n",
       "      <th>1</th>\n",
       "      <td>44</td>\n",
       "      <td>technician</td>\n",
       "      <td>single</td>\n",
       "      <td>secondary</td>\n",
       "      <td>no</td>\n",
       "      <td>29</td>\n",
       "      <td>yes</td>\n",
       "      <td>no</td>\n",
       "      <td>unknown</td>\n",
       "      <td>5</td>\n",
       "      <td>may</td>\n",
       "      <td>151</td>\n",
       "      <td>1</td>\n",
       "      <td>-1</td>\n",
       "      <td>0</td>\n",
       "      <td>unknown</td>\n",
       "      <td>no</td>\n",
       "    </tr>\n",
       "    <tr>\n",
       "      <th>2</th>\n",
       "      <td>33</td>\n",
       "      <td>entrepreneur</td>\n",
       "      <td>married</td>\n",
       "      <td>secondary</td>\n",
       "      <td>no</td>\n",
       "      <td>2</td>\n",
       "      <td>yes</td>\n",
       "      <td>yes</td>\n",
       "      <td>unknown</td>\n",
       "      <td>5</td>\n",
       "      <td>may</td>\n",
       "      <td>76</td>\n",
       "      <td>1</td>\n",
       "      <td>-1</td>\n",
       "      <td>0</td>\n",
       "      <td>unknown</td>\n",
       "      <td>no</td>\n",
       "    </tr>\n",
       "    <tr>\n",
       "      <th>3</th>\n",
       "      <td>47</td>\n",
       "      <td>blue-collar</td>\n",
       "      <td>married</td>\n",
       "      <td>unknown</td>\n",
       "      <td>no</td>\n",
       "      <td>1506</td>\n",
       "      <td>yes</td>\n",
       "      <td>no</td>\n",
       "      <td>unknown</td>\n",
       "      <td>5</td>\n",
       "      <td>may</td>\n",
       "      <td>92</td>\n",
       "      <td>1</td>\n",
       "      <td>-1</td>\n",
       "      <td>0</td>\n",
       "      <td>unknown</td>\n",
       "      <td>no</td>\n",
       "    </tr>\n",
       "    <tr>\n",
       "      <th>4</th>\n",
       "      <td>33</td>\n",
       "      <td>unknown</td>\n",
       "      <td>single</td>\n",
       "      <td>unknown</td>\n",
       "      <td>no</td>\n",
       "      <td>1</td>\n",
       "      <td>no</td>\n",
       "      <td>no</td>\n",
       "      <td>unknown</td>\n",
       "      <td>5</td>\n",
       "      <td>may</td>\n",
       "      <td>198</td>\n",
       "      <td>1</td>\n",
       "      <td>-1</td>\n",
       "      <td>0</td>\n",
       "      <td>unknown</td>\n",
       "      <td>no</td>\n",
       "    </tr>\n",
       "  </tbody>\n",
       "</table>\n",
       "</div>"
      ],
      "text/plain": [
       "   age           job  marital  education default  balance housing loan  \\\n",
       "0   58    management  married   tertiary      no     2143     yes   no   \n",
       "1   44    technician   single  secondary      no       29     yes   no   \n",
       "2   33  entrepreneur  married  secondary      no        2     yes  yes   \n",
       "3   47   blue-collar  married    unknown      no     1506     yes   no   \n",
       "4   33       unknown   single    unknown      no        1      no   no   \n",
       "\n",
       "   contact  day month  duration  campaign  pdays  previous poutcome   y  \n",
       "0  unknown    5   may       261         1     -1         0  unknown  no  \n",
       "1  unknown    5   may       151         1     -1         0  unknown  no  \n",
       "2  unknown    5   may        76         1     -1         0  unknown  no  \n",
       "3  unknown    5   may        92         1     -1         0  unknown  no  \n",
       "4  unknown    5   may       198         1     -1         0  unknown  no  "
      ]
     },
     "execution_count": 100,
     "metadata": {},
     "output_type": "execute_result"
    }
   ],
   "source": [
    "bank = pd.read_csv(\"bank-full.csv\", sep=\";\")\n",
    "print(bank.shape)\n",
    "bank.head()"
   ]
  },
  {
   "cell_type": "code",
   "execution_count": 3,
   "id": "69f73ccb",
   "metadata": {},
   "outputs": [
    {
     "name": "stdout",
     "output_type": "stream",
     "text": [
      "Number of rows:  45211\n",
      "Number of columns:  17\n"
     ]
    }
   ],
   "source": [
    "\"\"\"\n",
    "Number of rows and columns of the dataframe is checked.\n",
    "\"\"\"\n",
    "print(\"Number of rows: \", bank.shape[0])\n",
    "print(\"Number of columns: \", bank.shape[1])"
   ]
  },
  {
   "cell_type": "code",
   "execution_count": 126,
   "id": "aff82b70",
   "metadata": {},
   "outputs": [
    {
     "name": "stdout",
     "output_type": "stream",
     "text": [
      "1 Column:  age  ---> Type:  int64\n",
      "2 Column:  job  ---> Type:  object\n",
      "3 Column:  marital  ---> Type:  object\n",
      "4 Column:  education  ---> Type:  object\n",
      "5 Column:  default  ---> Type:  object\n",
      "6 Column:  balance  ---> Type:  int64\n",
      "7 Column:  housing  ---> Type:  object\n",
      "8 Column:  loan  ---> Type:  object\n",
      "9 Column:  contact  ---> Type:  object\n",
      "10 Column:  day  ---> Type:  int64\n",
      "11 Column:  month  ---> Type:  object\n",
      "12 Column:  duration  ---> Type:  int64\n",
      "13 Column:  campaign  ---> Type:  int64\n",
      "14 Column:  pdays  ---> Type:  int64\n",
      "15 Column:  previous  ---> Type:  int64\n",
      "16 Column:  poutcome  ---> Type:  object\n",
      "17 Column:  y  ---> Type:  object\n",
      "Index(['age', 'job', 'marital', 'education', 'default', 'balance', 'housing',\n",
      "       'loan', 'contact', 'day', 'month', 'duration', 'campaign', 'pdays',\n",
      "       'previous', 'poutcome', 'y'],\n",
      "      dtype='object')\n"
     ]
    }
   ],
   "source": [
    "\"\"\"\n",
    "Data type of all the columns are checked.\n",
    "\"\"\"\n",
    "j = 0\n",
    "for col in bank.columns:\n",
    "    j += 1\n",
    "    print(j, \"Column: \", col, \" ---> Type: \", bank[col].dtypes)\n",
    "print(bank.columns)"
   ]
  },
  {
   "cell_type": "code",
   "execution_count": 73,
   "id": "4f268326",
   "metadata": {},
   "outputs": [
    {
     "name": "stdout",
     "output_type": "stream",
     "text": [
      "1 Describe the column: \n",
      " count    45211.000000\n",
      "mean        40.936210\n",
      "std         10.618762\n",
      "min         18.000000\n",
      "25%         33.000000\n",
      "50%         39.000000\n",
      "75%         48.000000\n",
      "max         95.000000\n",
      "Name: age, dtype: float64\n",
      "-------------------------------------\n",
      "\n",
      "Value counts of the column: \n",
      " 32    2085\n",
      "31    1996\n",
      "33    1972\n",
      "34    1930\n",
      "35    1894\n",
      "      ... \n",
      "93       2\n",
      "90       2\n",
      "95       2\n",
      "88       2\n",
      "94       1\n",
      "Name: age, Length: 77, dtype: int64\n",
      "------------------------------------\n",
      "\n",
      "2 Describe the column: \n",
      " count           45211\n",
      "unique             12\n",
      "top       blue-collar\n",
      "freq             9732\n",
      "Name: job, dtype: object\n",
      "-------------------------------------\n",
      "\n",
      "Value counts of the column: \n",
      " blue-collar      9732\n",
      "management       9458\n",
      "technician       7597\n",
      "admin.           5171\n",
      "services         4154\n",
      "retired          2264\n",
      "self-employed    1579\n",
      "entrepreneur     1487\n",
      "unemployed       1303\n",
      "housemaid        1240\n",
      "student           938\n",
      "unknown           288\n",
      "Name: job, dtype: int64\n",
      "------------------------------------\n",
      "\n",
      "3 Describe the column: \n",
      " count       45211\n",
      "unique          3\n",
      "top       married\n",
      "freq        27214\n",
      "Name: marital, dtype: object\n",
      "-------------------------------------\n",
      "\n",
      "Value counts of the column: \n",
      " married     27214\n",
      "single      12790\n",
      "divorced     5207\n",
      "Name: marital, dtype: int64\n",
      "------------------------------------\n",
      "\n",
      "4 Describe the column: \n",
      " count         45211\n",
      "unique            4\n",
      "top       secondary\n",
      "freq          23202\n",
      "Name: education, dtype: object\n",
      "-------------------------------------\n",
      "\n",
      "Value counts of the column: \n",
      " secondary    23202\n",
      "tertiary     13301\n",
      "primary       6851\n",
      "unknown       1857\n",
      "Name: education, dtype: int64\n",
      "------------------------------------\n",
      "\n",
      "5 Describe the column: \n",
      " count     45211\n",
      "unique        2\n",
      "top          no\n",
      "freq      44396\n",
      "Name: default, dtype: object\n",
      "-------------------------------------\n",
      "\n",
      "Value counts of the column: \n",
      " no     44396\n",
      "yes      815\n",
      "Name: default, dtype: int64\n",
      "------------------------------------\n",
      "\n",
      "6 Describe the column: \n",
      " count     45211.000000\n",
      "mean       1362.272058\n",
      "std        3044.765829\n",
      "min       -8019.000000\n",
      "25%          72.000000\n",
      "50%         448.000000\n",
      "75%        1428.000000\n",
      "max      102127.000000\n",
      "Name: balance, dtype: float64\n",
      "-------------------------------------\n",
      "\n",
      "Value counts of the column: \n",
      "  0        3514\n",
      " 1         195\n",
      " 2         156\n",
      " 4         139\n",
      " 3         134\n",
      "          ... \n",
      "-381         1\n",
      " 4617        1\n",
      " 20584       1\n",
      " 4358        1\n",
      " 16353       1\n",
      "Name: balance, Length: 7168, dtype: int64\n",
      "------------------------------------\n",
      "\n",
      "7 Describe the column: \n",
      " count     45211\n",
      "unique        2\n",
      "top         yes\n",
      "freq      25130\n",
      "Name: housing, dtype: object\n",
      "-------------------------------------\n",
      "\n",
      "Value counts of the column: \n",
      " yes    25130\n",
      "no     20081\n",
      "Name: housing, dtype: int64\n",
      "------------------------------------\n",
      "\n",
      "8 Describe the column: \n",
      " count     45211\n",
      "unique        2\n",
      "top          no\n",
      "freq      37967\n",
      "Name: loan, dtype: object\n",
      "-------------------------------------\n",
      "\n",
      "Value counts of the column: \n",
      " no     37967\n",
      "yes     7244\n",
      "Name: loan, dtype: int64\n",
      "------------------------------------\n",
      "\n",
      "9 Describe the column: \n",
      " count        45211\n",
      "unique           3\n",
      "top       cellular\n",
      "freq         29285\n",
      "Name: contact, dtype: object\n",
      "-------------------------------------\n",
      "\n",
      "Value counts of the column: \n",
      " cellular     29285\n",
      "unknown      13020\n",
      "telephone     2906\n",
      "Name: contact, dtype: int64\n",
      "------------------------------------\n",
      "\n",
      "10 Describe the column: \n",
      " count    45211.000000\n",
      "mean        15.806419\n",
      "std          8.322476\n",
      "min          1.000000\n",
      "25%          8.000000\n",
      "50%         16.000000\n",
      "75%         21.000000\n",
      "max         31.000000\n",
      "Name: day, dtype: float64\n",
      "-------------------------------------\n",
      "\n",
      "Value counts of the column: \n",
      " 20    2752\n",
      "18    2308\n",
      "21    2026\n",
      "17    1939\n",
      "6     1932\n",
      "5     1910\n",
      "14    1848\n",
      "8     1842\n",
      "28    1830\n",
      "7     1817\n",
      "19    1757\n",
      "29    1745\n",
      "15    1703\n",
      "12    1603\n",
      "13    1585\n",
      "30    1566\n",
      "9     1561\n",
      "11    1479\n",
      "4     1445\n",
      "16    1415\n",
      "2     1293\n",
      "27    1121\n",
      "3     1079\n",
      "26    1035\n",
      "23     939\n",
      "22     905\n",
      "25     840\n",
      "31     643\n",
      "10     524\n",
      "24     447\n",
      "1      322\n",
      "Name: day, dtype: int64\n",
      "------------------------------------\n",
      "\n",
      "11 Describe the column: \n",
      " count     45211\n",
      "unique       12\n",
      "top         may\n",
      "freq      13766\n",
      "Name: month, dtype: object\n",
      "-------------------------------------\n",
      "\n",
      "Value counts of the column: \n",
      " may    13766\n",
      "jul     6895\n",
      "aug     6247\n",
      "jun     5341\n",
      "nov     3970\n",
      "apr     2932\n",
      "feb     2649\n",
      "jan     1403\n",
      "oct      738\n",
      "sep      579\n",
      "mar      477\n",
      "dec      214\n",
      "Name: month, dtype: int64\n",
      "------------------------------------\n",
      "\n",
      "12 Describe the column: \n",
      " count    45211.000000\n",
      "mean       258.163080\n",
      "std        257.527812\n",
      "min          0.000000\n",
      "25%        103.000000\n",
      "50%        180.000000\n",
      "75%        319.000000\n",
      "max       4918.000000\n",
      "Name: duration, dtype: float64\n",
      "-------------------------------------\n",
      "\n",
      "Value counts of the column: \n",
      " 124     188\n",
      "90      184\n",
      "89      177\n",
      "104     175\n",
      "122     175\n",
      "       ... \n",
      "1833      1\n",
      "1545      1\n",
      "1352      1\n",
      "1342      1\n",
      "1556      1\n",
      "Name: duration, Length: 1573, dtype: int64\n",
      "------------------------------------\n",
      "\n",
      "13 Describe the column: \n",
      " count    45211.000000\n",
      "mean         2.763841\n",
      "std          3.098021\n",
      "min          1.000000\n",
      "25%          1.000000\n",
      "50%          2.000000\n",
      "75%          3.000000\n",
      "max         63.000000\n",
      "Name: campaign, dtype: float64\n",
      "-------------------------------------\n",
      "\n",
      "Value counts of the column: \n",
      " 1     17544\n",
      "2     12505\n",
      "3      5521\n",
      "4      3522\n",
      "5      1764\n",
      "6      1291\n",
      "7       735\n",
      "8       540\n",
      "9       327\n",
      "10      266\n",
      "11      201\n",
      "12      155\n",
      "13      133\n",
      "14       93\n",
      "15       84\n",
      "16       79\n",
      "17       69\n",
      "18       51\n",
      "19       44\n",
      "20       43\n",
      "21       35\n",
      "22       23\n",
      "25       22\n",
      "23       22\n",
      "24       20\n",
      "29       16\n",
      "28       16\n",
      "26       13\n",
      "31       12\n",
      "27       10\n",
      "32        9\n",
      "30        8\n",
      "33        6\n",
      "34        5\n",
      "36        4\n",
      "35        4\n",
      "43        3\n",
      "38        3\n",
      "37        2\n",
      "50        2\n",
      "41        2\n",
      "46        1\n",
      "58        1\n",
      "55        1\n",
      "63        1\n",
      "51        1\n",
      "39        1\n",
      "44        1\n",
      "Name: campaign, dtype: int64\n",
      "------------------------------------\n",
      "\n",
      "14 Describe the column: \n",
      " count    45211.000000\n",
      "mean        40.197828\n",
      "std        100.128746\n",
      "min         -1.000000\n",
      "25%         -1.000000\n",
      "50%         -1.000000\n",
      "75%         -1.000000\n",
      "max        871.000000\n",
      "Name: pdays, dtype: float64\n",
      "-------------------------------------\n",
      "\n",
      "Value counts of the column: \n",
      " -1      36954\n",
      " 182      167\n",
      " 92       147\n",
      " 91       126\n",
      " 183      126\n",
      "        ...  \n",
      " 449        1\n",
      " 452        1\n",
      " 648        1\n",
      " 595        1\n",
      " 530        1\n",
      "Name: pdays, Length: 559, dtype: int64\n",
      "------------------------------------\n",
      "\n",
      "15 Describe the column: \n",
      " count    45211.000000\n",
      "mean         0.580323\n",
      "std          2.303441\n",
      "min          0.000000\n",
      "25%          0.000000\n",
      "50%          0.000000\n",
      "75%          0.000000\n",
      "max        275.000000\n",
      "Name: previous, dtype: float64\n",
      "-------------------------------------\n",
      "\n",
      "Value counts of the column: \n",
      " 0      36954\n",
      "1       2772\n",
      "2       2106\n",
      "3       1142\n",
      "4        714\n",
      "5        459\n",
      "6        277\n",
      "7        205\n",
      "8        129\n",
      "9         92\n",
      "10        67\n",
      "11        65\n",
      "12        44\n",
      "13        38\n",
      "15        20\n",
      "14        19\n",
      "17        15\n",
      "16        13\n",
      "19        11\n",
      "20         8\n",
      "23         8\n",
      "18         6\n",
      "22         6\n",
      "24         5\n",
      "27         5\n",
      "21         4\n",
      "29         4\n",
      "25         4\n",
      "30         3\n",
      "38         2\n",
      "37         2\n",
      "26         2\n",
      "28         2\n",
      "51         1\n",
      "275        1\n",
      "58         1\n",
      "32         1\n",
      "40         1\n",
      "55         1\n",
      "35         1\n",
      "41         1\n",
      "Name: previous, dtype: int64\n",
      "------------------------------------\n",
      "\n",
      "16 Describe the column: \n",
      " count       45211\n",
      "unique          4\n",
      "top       unknown\n",
      "freq        36959\n",
      "Name: poutcome, dtype: object\n",
      "-------------------------------------\n",
      "\n",
      "Value counts of the column: \n",
      " unknown    36959\n",
      "failure     4901\n",
      "other       1840\n",
      "success     1511\n",
      "Name: poutcome, dtype: int64\n",
      "------------------------------------\n",
      "\n",
      "17 Describe the column: \n",
      " count     45211\n",
      "unique        2\n",
      "top          no\n",
      "freq      39922\n",
      "Name: y, dtype: object\n",
      "-------------------------------------\n",
      "\n",
      "Value counts of the column: \n",
      " no     39922\n",
      "yes     5289\n",
      "Name: y, dtype: int64\n",
      "------------------------------------\n",
      "\n"
     ]
    }
   ],
   "source": [
    "\"\"\"\n",
    "The columns are checked if they  are continuous or categorical using .describe or .value_counts \n",
    "and by taking a quick look at the features.\n",
    "\"\"\"\n",
    "j = 0\n",
    "for col in bank.columns:\n",
    "    j += 1\n",
    "    res_col1 = bank[col].describe()\n",
    "    res_col2 = bank[col].value_counts()\n",
    "    print(j, \"Describe the column: \\n\", res_col1)\n",
    "    print(\"-------------------------------------\\n\")\n",
    "    print(\"Value counts of the column: \\n\", res_col2)\n",
    "    print(\"------------------------------------\\n\")"
   ]
  },
  {
   "cell_type": "code",
   "execution_count": 74,
   "id": "037a6d41",
   "metadata": {},
   "outputs": [
    {
     "data": {
      "image/png": "[encoded data removed]",
      "text/plain": [
       "<Figure size 432x288 with 1 Axes>"
      ]
     },
     "metadata": {
      "needs_background": "light"
     },
     "output_type": "display_data"
    }
   ],
   "source": [
    "pd.value_counts(bank['y']).plot.bar()\n",
    "plt.ylabel('count')\n",
    "plt.xlabel('client subscription(y)')\n",
    "plt.title(\"Target variable: client subscription(y) vs count\")\n",
    "plt.show()"
   ]
  },
  {
   "cell_type": "code",
   "execution_count": 46,
   "id": "67d7f662",
   "metadata": {},
   "outputs": [
    {
     "data": {
      "image/png": "[encoded data removed]",
      "text/plain": [
       "<Figure size 432x288 with 1 Axes>"
      ]
     },
     "metadata": {
      "needs_background": "light"
     },
     "output_type": "display_data"
    }
   ],
   "source": [
    "dataset = [bank[bank['y']=='yes']['balance'].values,\n",
    "           bank[bank['y']=='no']['balance'].values]\n",
    "\n",
    "plt.violinplot(dataset = dataset)\n",
    "plt.xticks([1,2],['yes','no'])\n",
    "plt.ylabel('balance')\n",
    "plt.xlabel('client subscription(y)')\n",
    "plt.title(\"Plot client subscription(y) vs balance\")\n",
    "plt.show()"
   ]
  },
  {
   "cell_type": "code",
   "execution_count": 125,
   "id": "6d43162f",
   "metadata": {},
   "outputs": [
    {
     "data": {
      "image/png": "[encoded data removed]",
      "text/plain": [
       "<Figure size 432x288 with 1 Axes>"
      ]
     },
     "metadata": {
      "needs_background": "light"
     },
     "output_type": "display_data"
    }
   ],
   "source": [
    "bank.plot.scatter('age','balance',alpha=0.3,s=10)\n",
    "plt.title('age vs balance')\n",
    "plt.show()"
   ]
  },
  {
   "cell_type": "code",
   "execution_count": 93,
   "id": "2effc50e",
   "metadata": {},
   "outputs": [
    {
     "data": {
      "image/png": "[encoded data removed]",
      "text/plain": [
       "<Figure size 432x288 with 1 Axes>"
      ]
     },
     "metadata": {
      "needs_background": "light"
     },
     "output_type": "display_data"
    }
   ],
   "source": [
    "bank[['age','y']].boxplot(by='y')\n",
    "plt.ylabel('age')\n",
    "plt.xlabel('client subscription(y)')\n",
    "# plt.title('Plot client subscription(y) vs age')\n",
    "plt.show()"
   ]
  },
  {
   "cell_type": "code",
   "execution_count": 94,
   "id": "b2bd1d60",
   "metadata": {},
   "outputs": [
    {
     "data": {
      "image/png": "[encoded data removed]",
      "text/plain": [
       "<Figure size 432x288 with 1 Axes>"
      ]
     },
     "metadata": {
      "needs_background": "light"
     },
     "output_type": "display_data"
    }
   ],
   "source": [
    "bank[['day','y']].boxplot(by='y')\n",
    "plt.ylabel('day')\n",
    "plt.xlabel('client subscription(y)')\n",
    "# plt.title('Plot client subscription(y) vs day')\n",
    "plt.show()"
   ]
  },
  {
   "cell_type": "code",
   "execution_count": 129,
   "id": "fb7f414c",
   "metadata": {},
   "outputs": [
    {
     "data": {
      "image/png": "[encoded data removed]",
      "text/plain": [
       "<Figure size 432x288 with 1 Axes>"
      ]
     },
     "metadata": {
      "needs_background": "light"
     },
     "output_type": "display_data"
    }
   ],
   "source": [
    "dataset = [bank[bank['y']=='yes']['duration'].values,\n",
    "           bank[bank['y']=='no']['duration'].values]\n",
    "\n",
    "plt.violinplot(dataset = dataset)\n",
    "plt.xticks([1,2],['yes','no'])\n",
    "plt.ylabel('duration')\n",
    "plt.xlabel('client subscription to term deposit(y)')\n",
    "plt.title(\"client subscription to term deposit(y) vs duration\")\n",
    "plt.show()"
   ]
  },
  {
   "cell_type": "code",
   "execution_count": 76,
   "id": "b4401ec1",
   "metadata": {},
   "outputs": [
    {
     "data": {
      "image/png": "[encoded data removed]",
      "text/plain": [
       "<Figure size 432x288 with 1 Axes>"
      ]
     },
     "metadata": {
      "needs_background": "light"
     },
     "output_type": "display_data"
    }
   ],
   "source": [
    "dataset = [bank[bank['y']=='yes']['campaign'].values,\n",
    "           bank[bank['y']=='no']['campaign'].values]\n",
    "\n",
    "plt.violinplot(dataset = dataset)\n",
    "plt.xticks([1,2],['yes','no'])\n",
    "plt.ylabel('campaign')\n",
    "plt.xlabel('client subscription(y)')\n",
    "plt.title(\"client subscription(y) vs campaign\")\n",
    "plt.show()"
   ]
  },
  {
   "cell_type": "code",
   "execution_count": 77,
   "id": "d2378e62",
   "metadata": {},
   "outputs": [
    {
     "data": {
      "image/png": "[encoded data removed]",
      "text/plain": [
       "<Figure size 432x288 with 1 Axes>"
      ]
     },
     "metadata": {
      "needs_background": "light"
     },
     "output_type": "display_data"
    }
   ],
   "source": [
    "dataset = [bank[bank['y']=='yes']['pdays'].values,\n",
    "           bank[bank['y']=='no']['pdays'].values]\n",
    "\n",
    "plt.violinplot(dataset = dataset)\n",
    "plt.xticks([1,2],['yes','no'])\n",
    "plt.ylabel('pdays')\n",
    "plt.xlabel('client subscription(y)')\n",
    "plt.title(\"client subscription(y) vs pdays\")\n",
    "plt.show()"
   ]
  },
  {
   "cell_type": "code",
   "execution_count": 78,
   "id": "7da80232",
   "metadata": {},
   "outputs": [
    {
     "data": {
      "image/png": "[encoded data removed]",
      "text/plain": [
       "<Figure size 432x288 with 1 Axes>"
      ]
     },
     "metadata": {
      "needs_background": "light"
     },
     "output_type": "display_data"
    }
   ],
   "source": [
    "dataset = [bank[bank['y']=='yes']['previous'].values,\n",
    "           bank[bank['y']=='no']['previous'].values]\n",
    "\n",
    "plt.violinplot(dataset = dataset)\n",
    "plt.xticks([1,2],['yes','no'])\n",
    "plt.ylabel('previous')\n",
    "plt.xlabel('client subscription(y)')\n",
    "plt.title(\"client subscription(y) vs previous\")\n",
    "plt.show()\n"
   ]
  },
  {
   "cell_type": "code",
   "execution_count": 127,
   "id": "14a88466",
   "metadata": {},
   "outputs": [
    {
     "data": {
      "image/png": "[encoded data removed]",
      "text/plain": [
       "<Figure size 432x288 with 1 Axes>"
      ]
     },
     "metadata": {
      "needs_background": "light"
     },
     "output_type": "display_data"
    }
   ],
   "source": [
    "count_matrix = bank.groupby(['job', 'y']).size().unstack()\n",
    "count_matrix_norm = count_matrix.div(count_matrix.sum(axis=1),axis=0)\n",
    "\n",
    "count_matrix_norm.plot(kind='bar', stacked=True)\n",
    "plt.ylabel('fraction of people')\n",
    "plt.legend(loc=4)\n",
    "plt.title(\"client subscription to term deposit (y) vs jobs\")\n",
    "plt.show()"
   ]
  },
  {
   "cell_type": "code",
   "execution_count": 80,
   "id": "2e12e6c1",
   "metadata": {},
   "outputs": [
    {
     "data": {
      "image/png": "[encoded data removed]",
      "text/plain": [
       "<Figure size 432x288 with 1 Axes>"
      ]
     },
     "metadata": {
      "needs_background": "light"
     },
     "output_type": "display_data"
    }
   ],
   "source": [
    "count_matrix = bank.groupby(['marital', 'y']).size().unstack()\n",
    "count_matrix_norm = count_matrix.div(count_matrix.sum(axis=1),axis=0)\n",
    "\n",
    "count_matrix_norm.plot(kind='bar', stacked=True)\n",
    "plt.ylabel('fraction of people')\n",
    "plt.legend(loc=4)\n",
    "plt.title(\"client subscription(y) vs marital\")\n",
    "plt.show()"
   ]
  },
  {
   "cell_type": "code",
   "execution_count": 81,
   "id": "79289ce9",
   "metadata": {},
   "outputs": [
    {
     "data": {
      "image/png": "[encoded data removed]",
      "text/plain": [
       "<Figure size 432x288 with 1 Axes>"
      ]
     },
     "metadata": {
      "needs_background": "light"
     },
     "output_type": "display_data"
    }
   ],
   "source": [
    "count_matrix = bank.groupby(['education', 'y']).size().unstack()\n",
    "count_matrix_norm = count_matrix.div(count_matrix.sum(axis=1),axis=0)\n",
    "\n",
    "count_matrix_norm.plot(kind='bar', stacked=True)\n",
    "plt.ylabel('fraction of people')\n",
    "plt.legend(loc=4)\n",
    "plt.title(\"client subscription(y) vs education\")\n",
    "plt.show()"
   ]
  },
  {
   "cell_type": "code",
   "execution_count": 82,
   "id": "fa2aa086",
   "metadata": {},
   "outputs": [
    {
     "data": {
      "image/png": "[encoded data removed]",
      "text/plain": [
       "<Figure size 432x288 with 1 Axes>"
      ]
     },
     "metadata": {
      "needs_background": "light"
     },
     "output_type": "display_data"
    }
   ],
   "source": [
    "count_matrix = bank.groupby(['default', 'y']).size().unstack()\n",
    "count_matrix_norm = count_matrix.div(count_matrix.sum(axis=1),axis=0)\n",
    "\n",
    "count_matrix_norm.plot(kind='bar', stacked=True)\n",
    "plt.ylabel('fraction of people')\n",
    "plt.legend(loc=4)\n",
    "plt.title(\"client subscription(y) vs default\")\n",
    "plt.show()"
   ]
  },
  {
   "cell_type": "code",
   "execution_count": 83,
   "id": "05bc0b7c",
   "metadata": {},
   "outputs": [
    {
     "data": {
      "image/png": "[encoded data removed]",
      "text/plain": [
       "<Figure size 432x288 with 1 Axes>"
      ]
     },
     "metadata": {
      "needs_background": "light"
     },
     "output_type": "display_data"
    },
    {
     "data": {
      "image/png": "[encoded data removed]",
      "text/plain": [
       "<Figure size 432x288 with 1 Axes>"
      ]
     },
     "metadata": {
      "needs_background": "light"
     },
     "output_type": "display_data"
    },
    {
     "data": {
      "image/png": "[encoded data removed]",
      "text/plain": [
       "<Figure size 432x288 with 1 Axes>"
      ]
     },
     "metadata": {
      "needs_background": "light"
     },
     "output_type": "display_data"
    },
    {
     "data": {
      "image/png": "[encoded data removed]",
      "text/plain": [
       "<Figure size 432x288 with 1 Axes>"
      ]
     },
     "metadata": {
      "needs_background": "light"
     },
     "output_type": "display_data"
    },
    {
     "data": {
      "image/png": "[encoded data removed]",
      "text/plain": [
       "<Figure size 432x288 with 1 Axes>"
      ]
     },
     "metadata": {
      "needs_background": "light"
     },
     "output_type": "display_data"
    }
   ],
   "source": [
    "count_matrix = bank.groupby(['housing', 'y']).size().unstack()\n",
    "count_matrix_norm = count_matrix.div(count_matrix.sum(axis=1),axis=0)\n",
    "\n",
    "count_matrix_norm.plot(kind='bar', stacked=True)\n",
    "plt.ylabel('fraction of people')\n",
    "plt.legend(loc=4)\n",
    "plt.title(\"client subscription(y) vs housing\")\n",
    "plt.show()\n",
    "\n",
    "count_matrix = bank.groupby(['loan', 'y']).size().unstack()\n",
    "count_matrix_norm = count_matrix.div(count_matrix.sum(axis=1),axis=0)\n",
    "\n",
    "count_matrix_norm.plot(kind='bar', stacked=True)\n",
    "plt.ylabel('fraction of people')\n",
    "plt.legend(loc=4)\n",
    "plt.title(\"client subscription(y) vs loan\")\n",
    "plt.show()\n",
    "\n",
    "count_matrix = bank.groupby(['contact', 'y']).size().unstack()\n",
    "count_matrix_norm = count_matrix.div(count_matrix.sum(axis=1),axis=0)\n",
    "\n",
    "count_matrix_norm.plot(kind='bar', stacked=True)\n",
    "plt.ylabel('fraction of people')\n",
    "plt.legend(loc=4)\n",
    "plt.title(\"client subscription(y) vs contact\")\n",
    "plt.show()\n",
    "\n",
    "count_matrix = bank.groupby(['month', 'y']).size().unstack()\n",
    "count_matrix_norm = count_matrix.div(count_matrix.sum(axis=1),axis=0)\n",
    "\n",
    "count_matrix_norm.plot(kind='bar', stacked=True)\n",
    "plt.ylabel('fraction of people')\n",
    "plt.legend(loc=4)\n",
    "plt.title(\"client subscription(y) vs month\")\n",
    "plt.show()\n",
    "\n",
    "count_matrix = bank.groupby(['poutcome', 'y']).size().unstack()\n",
    "count_matrix_norm = count_matrix.div(count_matrix.sum(axis=1),axis=0)\n",
    "\n",
    "count_matrix_norm.plot(kind='bar', stacked=True)\n",
    "plt.ylabel('fraction of people')\n",
    "plt.legend(loc=4)\n",
    "plt.title(\"client subscription(y) vs poutcome\")\n",
    "plt.show()"
   ]
  },
  {
   "cell_type": "code",
   "execution_count": 101,
   "id": "c326e372",
   "metadata": {},
   "outputs": [],
   "source": [
    "\"\"\"\n",
    "The target variable and other columns are seperated. \n",
    "\"\"\"\n",
    "y = bank['y'] \n",
    "X = bank.loc[:, bank.columns != 'y']"
   ]
  },
  {
   "cell_type": "code",
   "execution_count": 102,
   "id": "c128ebca",
   "metadata": {},
   "outputs": [
    {
     "name": "stdout",
     "output_type": "stream",
     "text": [
      "data dimensions: (45211, 17)\n",
      "fraction of missing values in features:\n",
      "Series([], dtype: float64)\n",
      "data types of the features with missing values:\n",
      "Series([], dtype: object)\n",
      "fraction of points with missing values: 0.0\n"
     ]
    }
   ],
   "source": [
    "\"\"\"\n",
    "Missing values in the columns are checked below. \n",
    "\"\"\"\n",
    "print('data dimensions:',bank.shape)\n",
    "perc_missing_per_ftr = bank.isnull().sum(axis=0)/bank.shape[0]\n",
    "print('fraction of missing values in features:')\n",
    "print(perc_missing_per_ftr[perc_missing_per_ftr > 0])\n",
    "print('data types of the features with missing values:')\n",
    "print(bank[perc_missing_per_ftr[perc_missing_per_ftr > 0].index].dtypes)\n",
    "frac_missing = sum(bank.isnull().sum(axis=1)!=0)/bank.shape[0]\n",
    "print('fraction of points with missing values:',frac_missing)"
   ]
  },
  {
   "cell_type": "code",
   "execution_count": 118,
   "id": "7b8de2cd",
   "metadata": {},
   "outputs": [
    {
     "name": "stdout",
     "output_type": "stream",
     "text": [
      "test balance: no     0.883003\n",
      "yes    0.116997\n",
      "Name: y, dtype: float64 \n",
      "\n",
      "X_train shape: \n",
      " (28935, 16) \n",
      "\n",
      "X_train_prep shape :\n",
      " (28935, 34) \n",
      "\n",
      "X_val_prep shape: \n",
      " (7233, 34) \n",
      "\n",
      "X_test_prep shape (9043, 34) \n",
      "\n",
      "X_train_prep :\n",
      " [[ 2.          7.          0.         ... -0.24455887 -0.4093447\n",
      "  -0.23157473]\n",
      " [ 2.          3.          2.         ...  0.40038379  1.4507462\n",
      "   2.5706898 ]\n",
      " [ 2.          7.          0.         ...  0.40038379 -0.4093447\n",
      "  -0.23157473]\n",
      " ...\n",
      " [ 2.          6.          0.         ... -0.5670302  -0.4093447\n",
      "  -0.23157473]\n",
      " [ 3.          4.          0.         ... -0.5670302  -0.4093447\n",
      "  -0.23157473]\n",
      " [ 0.          6.          2.         ... -0.24455887  2.71080777\n",
      "   2.9710133 ]] \n",
      "\n",
      "X_val_prep: \n",
      " [[ 2.          6.          0.         ...  2.65768312 -0.4093447\n",
      "  -0.23157473]\n",
      " [ 3.          5.          0.         ... -0.24455887 -0.4093447\n",
      "  -0.23157473]\n",
      " [ 2.          6.          0.         ...  0.40038379 -0.4093447\n",
      "  -0.23157473]\n",
      " ...\n",
      " [ 2.          4.          0.         ...  0.40038379 -0.4093447\n",
      "  -0.23157473]\n",
      " [ 3.          9.          3.         ... -0.5670302   0.67070808\n",
      "   0.56907228]\n",
      " [ 3.          5.          0.         ...  2.98015446 -0.4093447\n",
      "  -0.23157473]] \n",
      "\n",
      "X_test_prep: \n",
      " [[ 1.          4.          0.         ... -0.24455887 -0.4093447\n",
      "  -0.23157473]\n",
      " [ 2.          4.          0.         ... -0.24455887 -0.4093447\n",
      "  -0.23157473]\n",
      " [ 2.          5.          0.         ...  0.72285513 -0.4093447\n",
      "  -0.23157473]\n",
      " ...\n",
      " [ 3.          6.          0.         ... -0.24455887 -0.4093447\n",
      "  -0.23157473]\n",
      " [ 1.         10.          2.         ...  0.40038379  1.42074473\n",
      "   1.36971929]\n",
      " [ 2.          1.          2.         ... -0.5670302   1.69075793\n",
      "   0.16874877]] \n",
      "\n"
     ]
    }
   ],
   "source": [
    "\"\"\"\n",
    "stratified splits are used to split imbalanced data.\n",
    "The Dataset is split into Training, Validation and Testing sets.\n",
    "Random seed of 42 is taken.\n",
    "The features are identified as categorical or continuous. Based on that we apply respective transformers.\n",
    "Then we fit transform the training data and transform the validation and testing data. We can see that it is reproducable \n",
    "due to the random seed.\n",
    "\"\"\"\n",
    "random_state = 42\n",
    "\n",
    "X_other, X_test, y_other, y_test = train_test_split(X,y,test_size = 0.2,stratify=y,random_state=random_state)\n",
    "print('test balance:',y_test.value_counts(normalize=True),\"\\n\")\n",
    "\n",
    "    \n",
    "kf = StratifiedKFold(n_splits=5,shuffle=True,random_state=random_state)\n",
    "for train_index, val_index in kf.split(X_other,y_other):\n",
    "    X_train = X_other.iloc[train_index]\n",
    "    y_train = y_other.iloc[train_index]\n",
    "    X_val = X_other.iloc[val_index]\n",
    "    y_val = y_other.iloc[val_index]\n",
    "    ordinal_ftrs = ['education','month','poutcome'] \n",
    "    ordinal_cats = [['unknown','primary','secondary','tertiary'],['jan','feb','mar','apr','may','jun','jul','aug',\\\n",
    "                    'sep','oct','nov','dec'],['unknown','other','failure','success']]\n",
    "    onehot_ftrs = ['job','marital','default','housing','loan','contact']\n",
    "    minmax_ftrs = ['age']\n",
    "    std_ftrs = ['balance','day','duration','campaign','pdays','previous']\n",
    "    preprocessor = ColumnTransformer(\n",
    "        transformers=[\n",
    "            ('ord', OrdinalEncoder(categories = ordinal_cats), ordinal_ftrs),\n",
    "            ('onehot', OneHotEncoder(sparse=False,handle_unknown='ignore'), onehot_ftrs),\n",
    "            ('minmax', MinMaxScaler(), minmax_ftrs),\n",
    "            ('std', StandardScaler(), std_ftrs)])\n",
    "\n",
    "    clf = Pipeline(steps=[('preprocessor', preprocessor)]) \n",
    "    X_train_prep = clf.fit_transform(X_train)\n",
    "    X_val_prep = clf.transform(X_val)\n",
    "    X_test_prep = clf.transform(X_test)\n",
    "\n",
    "print(\"X_train shape: \\n\", X_train.shape, \"\\n\")\n",
    "print(\"X_train_prep shape :\\n\", X_train_prep.shape, \"\\n\")\n",
    "print(\"X_val_prep shape: \\n\", X_val_prep.shape, \"\\n\")\n",
    "print(\"X_test_prep shape\", X_test_prep.shape, \"\\n\")\n",
    "print(\"X_train_prep :\\n\", X_train_prep, \"\\n\")\n",
    "print(\"X_val_prep: \\n\", X_val_prep,\"\\n\")\n",
    "print(\"X_test_prep: \\n\",X_test_prep, \"\\n\")\n"
   ]
  },
  {
   "cell_type": "code",
   "execution_count": null,
   "id": "9803da1d",
   "metadata": {},
   "outputs": [],
   "source": []
  }
 ],
 "metadata": {
  "kernelspec": {
   "display_name": "Python 3",
   "language": "python",
   "name": "python3"
  },
  "language_info": {
   "codemirror_mode": {
    "name": "ipython",
    "version": 3
   },
   "file_extension": ".py",
   "mimetype": "text/x-python",
   "name": "python",
   "nbconvert_exporter": "python",
   "pygments_lexer": "ipython3",
   "version": "3.9.4"
  }
 },
 "nbformat": 4,
 "nbformat_minor": 5
}
